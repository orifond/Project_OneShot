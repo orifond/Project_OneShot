{
 "cells": [
  {
   "cell_type": "markdown",
   "id": "3be3e027",
   "metadata": {},
   "source": [
    "- gdsNum = product_id\n",
    "- gdsName = product_name\n",
    "- cateCode = category_id\n",
    "- gdsPrice = price\n",
    "- gdsStock = review_count\n",
    "- gdsDes = product_detail_img\n",
    "- gdsImg = image_url\n",
    "- gdsDate = sysdate()"
   ]
  },
  {
   "cell_type": "code",
   "execution_count": 93,
   "id": "59b5f80a",
   "metadata": {},
   "outputs": [],
   "source": [
    "#!pip install cx_Oracle\n",
    "#!pip install openpyxl"
   ]
  },
  {
   "cell_type": "code",
   "execution_count": 2,
   "id": "b4c4e2ab",
   "metadata": {},
   "outputs": [],
   "source": [
    "import requests\n",
    "import urllib\n",
    "import cx_Oracle\n",
    "import os\n",
    "import chardet\n",
    "from openpyxl import Workbook\n",
    "from bs4 import BeautifulSoup\n",
    "import pandas as pd\n",
    "import numpy as np"
   ]
  },
  {
   "cell_type": "code",
   "execution_count": 3,
   "id": "6b664467",
   "metadata": {},
   "outputs": [],
   "source": [
    "# 한글깨짐 방지\n",
    "os.environ[\"NLS_LANG\"] = \".AL32UTF8\""
   ]
  },
  {
   "cell_type": "code",
   "execution_count": 4,
   "id": "a40f5de2",
   "metadata": {},
   "outputs": [
    {
     "data": {
      "text/plain": [
       "<cx_Oracle.Connection to scott@localhost/XE>"
      ]
     },
     "execution_count": 4,
     "metadata": {},
     "output_type": "execute_result"
    }
   ],
   "source": [
    "# DB와 연결된 코드\n",
    "connection = cx_Oracle.connect(user='scott', password='tiger',\n",
    "                              dsn='localhost/XE')\n",
    "connection"
   ]
  },
  {
   "cell_type": "code",
   "execution_count": 5,
   "id": "cc8a64e8",
   "metadata": {},
   "outputs": [
    {
     "name": "stdout",
     "output_type": "stream",
     "text": [
      "Values: 아이디 닉네임\n",
      "Values: admin@test admin\n",
      "Values: user@test user\n"
     ]
    }
   ],
   "source": [
    "cursor = connection.cursor()\n",
    "# query test\n",
    "cursor.execute(\"\"\"\n",
    "        SELECT userId,userName \n",
    "        FROM tbl_member\"\"\")\n",
    "for userId, userName in cursor:\n",
    "    print(\"Values:\", userId, userName)"
   ]
  },
  {
   "cell_type": "code",
   "execution_count": 6,
   "id": "7a7974b8",
   "metadata": {},
   "outputs": [
    {
     "data": {
      "text/html": [
       "<div>\n",
       "<style scoped>\n",
       "    .dataframe tbody tr th:only-of-type {\n",
       "        vertical-align: middle;\n",
       "    }\n",
       "\n",
       "    .dataframe tbody tr th {\n",
       "        vertical-align: top;\n",
       "    }\n",
       "\n",
       "    .dataframe thead th {\n",
       "        text-align: right;\n",
       "    }\n",
       "</style>\n",
       "<table border=\"1\" class=\"dataframe\">\n",
       "  <thead>\n",
       "    <tr style=\"text-align: right;\">\n",
       "      <th></th>\n",
       "      <th>gdsNum</th>\n",
       "      <th>sugNum</th>\n",
       "    </tr>\n",
       "  </thead>\n",
       "  <tbody>\n",
       "    <tr>\n",
       "      <th>0</th>\n",
       "      <td>17087</td>\n",
       "      <td>335355, 355500, 365562, 450754, 832028</td>\n",
       "    </tr>\n",
       "    <tr>\n",
       "      <th>1</th>\n",
       "      <td>112197</td>\n",
       "      <td>231324, 342848, 354353, 414289, 450754</td>\n",
       "    </tr>\n",
       "    <tr>\n",
       "      <th>2</th>\n",
       "      <td>231324</td>\n",
       "      <td>112197, 312502, 354353, 357116, 414289</td>\n",
       "    </tr>\n",
       "    <tr>\n",
       "      <th>3</th>\n",
       "      <td>312502</td>\n",
       "      <td>231324, 354353, 357116, 365562, 414289</td>\n",
       "    </tr>\n",
       "    <tr>\n",
       "      <th>4</th>\n",
       "      <td>335355</td>\n",
       "      <td>17087, 355500, 365562, 450754, 832028</td>\n",
       "    </tr>\n",
       "  </tbody>\n",
       "</table>\n",
       "</div>"
      ],
      "text/plain": [
       "   gdsNum                                  sugNum\n",
       "0   17087  335355, 355500, 365562, 450754, 832028\n",
       "1  112197  231324, 342848, 354353, 414289, 450754\n",
       "2  231324  112197, 312502, 354353, 357116, 414289\n",
       "3  312502  231324, 354353, 357116, 365562, 414289\n",
       "4  335355   17087, 355500, 365562, 450754, 832028"
      ]
     },
     "execution_count": 6,
     "metadata": {},
     "output_type": "execute_result"
    }
   ],
   "source": [
    "df = pd.read_csv('./ohou_sug_data.csv')\n",
    "df.head()"
   ]
  },
  {
   "cell_type": "code",
   "execution_count": 7,
   "id": "f30f8949",
   "metadata": {},
   "outputs": [],
   "source": [
    "sql_insert = \"\"\"insert into goods_sug(indexNo, gdsNum, sugNum) VALUES(:indexNo, :gdsNum, :sugNum)\"\"\"\n",
    "for i in range(0,len(df)):\n",
    "    cursor.execute(sql_insert,\n",
    "                   indexNo=int(i),\n",
    "                   gdsNum=int(df.iloc[i]['gdsNum']), \n",
    "                   sugNum=df.loc[i]['sugNum']\n",
    "                  )"
   ]
  },
  {
   "cell_type": "code",
   "execution_count": 8,
   "id": "b9d5b744",
   "metadata": {},
   "outputs": [
    {
     "name": "stdout",
     "output_type": "stream",
     "text": [
      "Values: 17087 335355, 355500, 365562, 450754, 832028\n",
      "Values: 112197 231324, 342848, 354353, 414289, 450754\n",
      "Values: 231324 112197, 312502, 354353, 357116, 414289\n",
      "Values: 312502 231324, 354353, 357116, 365562, 414289\n",
      "Values: 335355 17087, 355500, 365562, 450754, 832028\n",
      "Values: 354353 112197, 231324, 312502, 342848, 357116\n",
      "Values: 355500 17087, 335355, 365562, 450754, 832028\n",
      "Values: 357116 231324, 312502, 354353, 475675, 599813\n",
      "Values: 365562 17087, 312502, 335355, 342848, 354353\n",
      "Values: 414289 112197, 231324, 312502, 354353, 446493\n",
      "Values: 446493 31017, 231324, 354353, 414289, 475675\n",
      "Values: 450754 17087, 112197, 312502, 335355, 354353\n",
      "Values: 475675 112197, 231324, 312502, 354353, 357116\n",
      "Values: 745069 231324, 312502, 342848, 354353, 365562\n"
     ]
    }
   ],
   "source": [
    "cursor.execute(\"\"\"\n",
    "        SELECT gdsNum,sugNum \n",
    "        FROM goods_sug\"\"\")\n",
    "for gdsNum, sugNum in cursor:\n",
    "    print(\"Values:\", gdsNum, sugNum)"
   ]
  },
  {
   "cell_type": "code",
   "execution_count": 9,
   "id": "64c65d0a",
   "metadata": {},
   "outputs": [],
   "source": [
    "# 커밋\n",
    "connection.commit()"
   ]
  },
  {
   "cell_type": "code",
   "execution_count": null,
   "id": "c912dd61",
   "metadata": {},
   "outputs": [],
   "source": []
  }
 ],
 "metadata": {
  "kernelspec": {
   "display_name": "Python 3",
   "language": "python",
   "name": "python3"
  },
  "language_info": {
   "codemirror_mode": {
    "name": "ipython",
    "version": 3
   },
   "file_extension": ".py",
   "mimetype": "text/x-python",
   "name": "python",
   "nbconvert_exporter": "python",
   "pygments_lexer": "ipython3",
   "version": "3.8.10"
  }
 },
 "nbformat": 4,
 "nbformat_minor": 5
}
